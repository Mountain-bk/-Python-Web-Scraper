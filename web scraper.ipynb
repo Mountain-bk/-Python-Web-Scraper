{
 "cells": [
  {
   "cell_type": "code",
   "execution_count": 469,
   "metadata": {},
   "outputs": [],
   "source": [
    "import matplotlib.pyplot as plt\n",
    "import pandas as pd\n",
    "import numpy as np"
   ]
  },
  {
   "cell_type": "code",
   "execution_count": 468,
   "metadata": {},
   "outputs": [
    {
     "data": {
      "text/html": [
       "<div>\n",
       "<style scoped>\n",
       "    .dataframe tbody tr th:only-of-type {\n",
       "        vertical-align: middle;\n",
       "    }\n",
       "\n",
       "    .dataframe tbody tr th {\n",
       "        vertical-align: top;\n",
       "    }\n",
       "\n",
       "    .dataframe thead th {\n",
       "        text-align: right;\n",
       "    }\n",
       "</style>\n",
       "<table border=\"1\" class=\"dataframe\">\n",
       "  <thead>\n",
       "    <tr style=\"text-align: right;\">\n",
       "      <th></th>\n",
       "      <th>Company</th>\n",
       "      <th>Python</th>\n",
       "      <th>C</th>\n",
       "      <th>C#</th>\n",
       "      <th>C++</th>\n",
       "      <th>R</th>\n",
       "      <th>Java</th>\n",
       "      <th>Ruby</th>\n",
       "      <th>JavaScript</th>\n",
       "      <th>PHP</th>\n",
       "      <th>SQL</th>\n",
       "      <th>Scala</th>\n",
       "      <th>Rust</th>\n",
       "    </tr>\n",
       "  </thead>\n",
       "  <tbody>\n",
       "    <tr>\n",
       "      <th>0</th>\n",
       "      <td>Waymo</td>\n",
       "      <td>16</td>\n",
       "      <td>5</td>\n",
       "      <td>0</td>\n",
       "      <td>40</td>\n",
       "      <td>2</td>\n",
       "      <td>0</td>\n",
       "      <td>0</td>\n",
       "      <td>1</td>\n",
       "      <td>0</td>\n",
       "      <td>0</td>\n",
       "      <td>0</td>\n",
       "      <td>0</td>\n",
       "    </tr>\n",
       "    <tr>\n",
       "      <th>1</th>\n",
       "      <td>Tesla</td>\n",
       "      <td>56</td>\n",
       "      <td>37</td>\n",
       "      <td>16</td>\n",
       "      <td>34</td>\n",
       "      <td>4</td>\n",
       "      <td>27</td>\n",
       "      <td>19</td>\n",
       "      <td>27</td>\n",
       "      <td>11</td>\n",
       "      <td>34</td>\n",
       "      <td>12</td>\n",
       "      <td>19</td>\n",
       "    </tr>\n",
       "    <tr>\n",
       "      <th>2</th>\n",
       "      <td>GM-Cruise</td>\n",
       "      <td>26</td>\n",
       "      <td>8</td>\n",
       "      <td>0</td>\n",
       "      <td>29</td>\n",
       "      <td>1</td>\n",
       "      <td>1</td>\n",
       "      <td>0</td>\n",
       "      <td>3</td>\n",
       "      <td>0</td>\n",
       "      <td>2</td>\n",
       "      <td>0</td>\n",
       "      <td>0</td>\n",
       "    </tr>\n",
       "    <tr>\n",
       "      <th>3</th>\n",
       "      <td>Argo-AI</td>\n",
       "      <td>16</td>\n",
       "      <td>1</td>\n",
       "      <td>0</td>\n",
       "      <td>19</td>\n",
       "      <td>0</td>\n",
       "      <td>7</td>\n",
       "      <td>0</td>\n",
       "      <td>2</td>\n",
       "      <td>0</td>\n",
       "      <td>3</td>\n",
       "      <td>0</td>\n",
       "      <td>0</td>\n",
       "    </tr>\n",
       "  </tbody>\n",
       "</table>\n",
       "</div>"
      ],
      "text/plain": [
       "     Company  Python   C  C#  C++  R  Java  Ruby  JavaScript  PHP  SQL  Scala  \\\n",
       "0      Waymo      16   5   0   40  2     0     0           1    0    0      0   \n",
       "1      Tesla      56  37  16   34  4    27    19          27   11   34     12   \n",
       "2  GM-Cruise      26   8   0   29  1     1     0           3    0    2      0   \n",
       "3    Argo-AI      16   1   0   19  0     7     0           2    0    3      0   \n",
       "\n",
       "   Rust  \n",
       "0     0  \n",
       "1    19  \n",
       "2     0  \n",
       "3     0  "
      ]
     },
     "execution_count": 468,
     "metadata": {},
     "output_type": "execute_result"
    }
   ],
   "source": [
    "data = pd.read_csv(\"C:/Users/ryoch/PycharmProjects/Web Scraper/autonomous-vehicle-company-language-counter.csv\")\n",
    "data"
   ]
  },
  {
   "cell_type": "code",
   "execution_count": 431,
   "metadata": {},
   "outputs": [
    {
     "data": {
      "text/html": [
       "<div>\n",
       "<style scoped>\n",
       "    .dataframe tbody tr th:only-of-type {\n",
       "        vertical-align: middle;\n",
       "    }\n",
       "\n",
       "    .dataframe tbody tr th {\n",
       "        vertical-align: top;\n",
       "    }\n",
       "\n",
       "    .dataframe thead th {\n",
       "        text-align: right;\n",
       "    }\n",
       "</style>\n",
       "<table border=\"1\" class=\"dataframe\">\n",
       "  <thead>\n",
       "    <tr style=\"text-align: right;\">\n",
       "      <th></th>\n",
       "      <th>Python</th>\n",
       "      <th>C</th>\n",
       "      <th>C#</th>\n",
       "      <th>C++</th>\n",
       "      <th>R</th>\n",
       "      <th>Java</th>\n",
       "      <th>Ruby</th>\n",
       "      <th>JavaScript</th>\n",
       "      <th>PHP</th>\n",
       "      <th>SQL</th>\n",
       "      <th>Scala</th>\n",
       "    </tr>\n",
       "  </thead>\n",
       "  <tbody>\n",
       "    <tr>\n",
       "      <th>0</th>\n",
       "      <td>16</td>\n",
       "      <td>5</td>\n",
       "      <td>0</td>\n",
       "      <td>40</td>\n",
       "      <td>2</td>\n",
       "      <td>0</td>\n",
       "      <td>0</td>\n",
       "      <td>1</td>\n",
       "      <td>0</td>\n",
       "      <td>0</td>\n",
       "      <td>0</td>\n",
       "    </tr>\n",
       "    <tr>\n",
       "      <th>1</th>\n",
       "      <td>56</td>\n",
       "      <td>37</td>\n",
       "      <td>16</td>\n",
       "      <td>34</td>\n",
       "      <td>4</td>\n",
       "      <td>27</td>\n",
       "      <td>19</td>\n",
       "      <td>27</td>\n",
       "      <td>11</td>\n",
       "      <td>34</td>\n",
       "      <td>12</td>\n",
       "    </tr>\n",
       "    <tr>\n",
       "      <th>2</th>\n",
       "      <td>26</td>\n",
       "      <td>8</td>\n",
       "      <td>0</td>\n",
       "      <td>29</td>\n",
       "      <td>1</td>\n",
       "      <td>1</td>\n",
       "      <td>0</td>\n",
       "      <td>3</td>\n",
       "      <td>0</td>\n",
       "      <td>2</td>\n",
       "      <td>0</td>\n",
       "    </tr>\n",
       "    <tr>\n",
       "      <th>3</th>\n",
       "      <td>16</td>\n",
       "      <td>1</td>\n",
       "      <td>0</td>\n",
       "      <td>19</td>\n",
       "      <td>0</td>\n",
       "      <td>7</td>\n",
       "      <td>0</td>\n",
       "      <td>2</td>\n",
       "      <td>0</td>\n",
       "      <td>3</td>\n",
       "      <td>0</td>\n",
       "    </tr>\n",
       "  </tbody>\n",
       "</table>\n",
       "</div>"
      ],
      "text/plain": [
       "   Python   C  C#  C++  R  Java  Ruby  JavaScript  PHP  SQL  Scala\n",
       "0      16   5   0   40  2     0     0           1    0    0      0\n",
       "1      56  37  16   34  4    27    19          27   11   34     12\n",
       "2      26   8   0   29  1     1     0           3    0    2      0\n",
       "3      16   1   0   19  0     7     0           2    0    3      0"
      ]
     },
     "execution_count": 431,
     "metadata": {},
     "output_type": "execute_result"
    }
   ],
   "source": [
    "language_data = data.iloc[:, 1:12]\n",
    "language_data"
   ]
  },
  {
   "cell_type": "code",
   "execution_count": 432,
   "metadata": {},
   "outputs": [
    {
     "data": {
      "text/plain": [
       "[114, 51, 16, 122, 7, 35, 19, 33, 11, 39, 12]"
      ]
     },
     "execution_count": 432,
     "metadata": {},
     "output_type": "execute_result"
    }
   ],
   "source": [
    "total_languages = language_data.sum(axis = 0)\n",
    "counter = list(total_languages)\n",
    "counter"
   ]
  },
  {
   "cell_type": "code",
   "execution_count": 433,
   "metadata": {},
   "outputs": [
    {
     "data": {
      "text/plain": [
       "['Python',\n",
       " 'C',\n",
       " 'C#',\n",
       " 'C++',\n",
       " 'R',\n",
       " 'Java',\n",
       " 'Ruby',\n",
       " 'JavaScript',\n",
       " 'PHP',\n",
       " 'SQL',\n",
       " 'Scala']"
      ]
     },
     "execution_count": 433,
     "metadata": {},
     "output_type": "execute_result"
    }
   ],
   "source": [
    "language_lst = list(language_data.head())\n",
    "language_lst"
   ]
  },
  {
   "cell_type": "code",
   "execution_count": 434,
   "metadata": {},
   "outputs": [
    {
     "data": {
      "text/plain": [
       "{'Python': 114,\n",
       " 'C': 51,\n",
       " 'C#': 16,\n",
       " 'C++': 122,\n",
       " 'R': 7,\n",
       " 'Java': 35,\n",
       " 'Ruby': 19,\n",
       " 'JavaScript': 33,\n",
       " 'PHP': 11,\n",
       " 'SQL': 39,\n",
       " 'Scala': 12}"
      ]
     },
     "execution_count": 434,
     "metadata": {},
     "output_type": "execute_result"
    }
   ],
   "source": [
    "all_company = {}\n",
    "for language in language_lst:\n",
    "    for count in counter:\n",
    "        all_company[language] = count\n",
    "        counter.remove(count)\n",
    "        break\n",
    "all_company"
   ]
  },
  {
   "cell_type": "code",
   "execution_count": 435,
   "metadata": {},
   "outputs": [
    {
     "data": {
      "text/plain": [
       "{'R': 7,\n",
       " 'PHP': 11,\n",
       " 'Scala': 12,\n",
       " 'C#': 16,\n",
       " 'Ruby': 19,\n",
       " 'JavaScript': 33,\n",
       " 'Java': 35,\n",
       " 'SQL': 39,\n",
       " 'C': 51,\n",
       " 'Python': 114,\n",
       " 'C++': 122}"
      ]
     },
     "execution_count": 435,
     "metadata": {},
     "output_type": "execute_result"
    }
   ],
   "source": [
    "all_company = {key: value for key, value in sorted(all_company.items(), key=lambda item: item[1])}\n",
    "all_company"
   ]
  },
  {
   "cell_type": "code",
   "execution_count": 436,
   "metadata": {},
   "outputs": [
    {
     "name": "stdout",
     "output_type": "stream",
     "text": [
      "['R', 'PHP', 'Scala', 'C#', 'Ruby', 'JavaScript', 'Java', 'SQL', 'C', 'Python', 'C++']\n",
      "[7, 11, 12, 16, 19, 33, 35, 39, 51, 114, 122]\n"
     ]
    }
   ],
   "source": [
    "result_language_lst = []\n",
    "result_count_lst = []\n",
    "for key, value in all_company.items():\n",
    "    result_language_lst.append(key)\n",
    "    result_count_lst.append(value)\n",
    "print(result_language_lst)\n",
    "print(result_count_lst)"
   ]
  },
  {
   "cell_type": "code",
   "execution_count": 437,
   "metadata": {},
   "outputs": [
    {
     "data": {
      "image/png": "[encoded data removed]",
      "text/plain": [
       "<Figure size 432x288 with 1 Axes>"
      ]
     },
     "metadata": {
      "needs_background": "light"
     },
     "output_type": "display_data"
    },
    {
     "data": {
      "text/plain": [
       "<Figure size 432x288 with 0 Axes>"
      ]
     },
     "metadata": {},
     "output_type": "display_data"
    }
   ],
   "source": [
    "y_pos = np.arange(len(result_language_lst))\n",
    "plt.barh(y_pos, result_count_lst, align='center', alpha=0.5)\n",
    "plt.yticks(y_pos, result_language_lst)\n",
    "plt.xlabel('Usage')\n",
    "plt.title('Autonomous Vehicle Company Programming language usage')\n",
    "\n",
    "plt.show()\n",
    "plt.savefig('company_total.png')"
   ]
  },
  {
   "cell_type": "code",
   "execution_count": 438,
   "metadata": {},
   "outputs": [
    {
     "data": {
      "text/plain": [
       "Python        16\n",
       "C              5\n",
       "C#             0\n",
       "C++           40\n",
       "R              2\n",
       "Java           0\n",
       "Ruby           0\n",
       "JavaScript     1\n",
       "PHP            0\n",
       "SQL            0\n",
       "Scala          0\n",
       "Name: 0, dtype: int64"
      ]
     },
     "execution_count": 438,
     "metadata": {},
     "output_type": "execute_result"
    }
   ],
   "source": [
    "waymo_data = language_data.iloc[0, :]\n",
    "waymo_data"
   ]
  },
  {
   "cell_type": "code",
   "execution_count": 439,
   "metadata": {},
   "outputs": [
    {
     "data": {
      "text/plain": [
       "[16, 5, 0, 40, 2, 0, 0, 1, 0, 0, 0]"
      ]
     },
     "execution_count": 439,
     "metadata": {},
     "output_type": "execute_result"
    }
   ],
   "source": [
    "waymo_counter = list(waymo_data)\n",
    "waymo_counter"
   ]
  },
  {
   "cell_type": "code",
   "execution_count": 440,
   "metadata": {},
   "outputs": [
    {
     "data": {
      "text/plain": [
       "{'Python': 16,\n",
       " 'C': 5,\n",
       " 'C#': 0,\n",
       " 'C++': 40,\n",
       " 'R': 2,\n",
       " 'Java': 0,\n",
       " 'Ruby': 0,\n",
       " 'JavaScript': 1,\n",
       " 'PHP': 0,\n",
       " 'SQL': 0,\n",
       " 'Scala': 0}"
      ]
     },
     "execution_count": 440,
     "metadata": {},
     "output_type": "execute_result"
    }
   ],
   "source": [
    "waymo_dict = {}\n",
    "for language in language_lst:\n",
    "    for count in waymo_counter:\n",
    "        waymo_dict[language] = count\n",
    "        waymo_counter.remove(count)\n",
    "        break\n",
    "waymo_dict"
   ]
  },
  {
   "cell_type": "code",
   "execution_count": 441,
   "metadata": {},
   "outputs": [
    {
     "data": {
      "text/plain": [
       "{'C#': 0,\n",
       " 'Java': 0,\n",
       " 'Ruby': 0,\n",
       " 'PHP': 0,\n",
       " 'SQL': 0,\n",
       " 'Scala': 0,\n",
       " 'JavaScript': 1,\n",
       " 'R': 2,\n",
       " 'C': 5,\n",
       " 'Python': 16,\n",
       " 'C++': 40}"
      ]
     },
     "execution_count": 441,
     "metadata": {},
     "output_type": "execute_result"
    }
   ],
   "source": [
    "waymo_dict = {key: value for key, value in sorted(waymo_dict.items(), key=lambda item: item[1])}\n",
    "waymo_dict"
   ]
  },
  {
   "cell_type": "code",
   "execution_count": 442,
   "metadata": {},
   "outputs": [
    {
     "name": "stdout",
     "output_type": "stream",
     "text": [
      "['C#', 'Java', 'Ruby', 'PHP', 'SQL', 'Scala', 'JavaScript', 'R', 'C', 'Python', 'C++']\n",
      "[0, 0, 0, 0, 0, 0, 1, 2, 5, 16, 40]\n"
     ]
    }
   ],
   "source": [
    "waymo_languages_lst = []\n",
    "waymo_count_lst = []\n",
    "for key, value in waymo_dict.items():\n",
    "    waymo_languages_lst.append(key)\n",
    "    waymo_count_lst.append(value)\n",
    "print(waymo_languages_lst)\n",
    "print(waymo_count_lst)"
   ]
  },
  {
   "cell_type": "code",
   "execution_count": 443,
   "metadata": {},
   "outputs": [
    {
     "data": {
      "image/png": "[encoded data removed]",
      "text/plain": [
       "<Figure size 432x288 with 1 Axes>"
      ]
     },
     "metadata": {
      "needs_background": "light"
     },
     "output_type": "display_data"
    },
    {
     "data": {
      "text/plain": [
       "<Figure size 432x288 with 0 Axes>"
      ]
     },
     "metadata": {},
     "output_type": "display_data"
    }
   ],
   "source": [
    "y_pos = np.arange(len(waymo_languages_lst))\n",
    "plt.barh(y_pos, waymo_count_lst, align='center', alpha=0.5, color='#00e89d')\n",
    "plt.yticks(y_pos, waymo_languages_lst)\n",
    "plt.xlabel('Usage')\n",
    "plt.title('Waymo Programming language usage')\n",
    "\n",
    "plt.show()\n",
    "plt.savefig('waymo_data.png')"
   ]
  },
  {
   "cell_type": "code",
   "execution_count": 444,
   "metadata": {},
   "outputs": [
    {
     "data": {
      "text/plain": [
       "Python        56\n",
       "C             37\n",
       "C#            16\n",
       "C++           34\n",
       "R              4\n",
       "Java          27\n",
       "Ruby          19\n",
       "JavaScript    27\n",
       "PHP           11\n",
       "SQL           34\n",
       "Scala         12\n",
       "Name: 1, dtype: int64"
      ]
     },
     "execution_count": 444,
     "metadata": {},
     "output_type": "execute_result"
    }
   ],
   "source": [
    "tesla_data = language_data.iloc[1, :]\n",
    "tesla_data"
   ]
  },
  {
   "cell_type": "code",
   "execution_count": 445,
   "metadata": {},
   "outputs": [
    {
     "data": {
      "text/plain": [
       "[56, 37, 16, 34, 4, 27, 19, 27, 11, 34, 12]"
      ]
     },
     "execution_count": 445,
     "metadata": {},
     "output_type": "execute_result"
    }
   ],
   "source": [
    "tesla_counter = list(tesla_data)\n",
    "tesla_counter"
   ]
  },
  {
   "cell_type": "code",
   "execution_count": 446,
   "metadata": {},
   "outputs": [
    {
     "data": {
      "text/plain": [
       "{'Python': 56,\n",
       " 'C': 37,\n",
       " 'C#': 16,\n",
       " 'C++': 34,\n",
       " 'R': 4,\n",
       " 'Java': 27,\n",
       " 'Ruby': 19,\n",
       " 'JavaScript': 27,\n",
       " 'PHP': 11,\n",
       " 'SQL': 34,\n",
       " 'Scala': 12}"
      ]
     },
     "execution_count": 446,
     "metadata": {},
     "output_type": "execute_result"
    }
   ],
   "source": [
    "tesla_dict = {}\n",
    "for key in language_lst:\n",
    "    for count in tesla_counter:\n",
    "        tesla_dict[key] = count\n",
    "        tesla_counter.remove(count)\n",
    "        break\n",
    "tesla_dict"
   ]
  },
  {
   "cell_type": "code",
   "execution_count": 447,
   "metadata": {},
   "outputs": [
    {
     "data": {
      "text/plain": [
       "{'R': 4,\n",
       " 'PHP': 11,\n",
       " 'Scala': 12,\n",
       " 'C#': 16,\n",
       " 'Ruby': 19,\n",
       " 'Java': 27,\n",
       " 'JavaScript': 27,\n",
       " 'C++': 34,\n",
       " 'SQL': 34,\n",
       " 'C': 37,\n",
       " 'Python': 56}"
      ]
     },
     "execution_count": 447,
     "metadata": {},
     "output_type": "execute_result"
    }
   ],
   "source": [
    "tesla_dict = {key: value for key, value in sorted(tesla_dict.items(), key=lambda item: item[1])}\n",
    "tesla_dict"
   ]
  },
  {
   "cell_type": "code",
   "execution_count": 448,
   "metadata": {},
   "outputs": [
    {
     "name": "stdout",
     "output_type": "stream",
     "text": [
      "['R', 'PHP', 'Scala', 'C#', 'Ruby', 'Java', 'JavaScript', 'C++', 'SQL', 'C', 'Python']\n",
      "[4, 11, 12, 16, 19, 27, 27, 34, 34, 37, 56]\n"
     ]
    }
   ],
   "source": [
    "tesla_languages_lst = []\n",
    "tesla_count_lst = []\n",
    "for key, value in tesla_dict.items():\n",
    "    tesla_languages_lst.append(key)\n",
    "    tesla_count_lst.append(value)\n",
    "print(tesla_languages_lst)\n",
    "print(tesla_count_lst)"
   ]
  },
  {
   "cell_type": "code",
   "execution_count": 449,
   "metadata": {},
   "outputs": [
    {
     "data": {
      "image/png": "[encoded data removed]",
      "text/plain": [
       "<Figure size 432x288 with 1 Axes>"
      ]
     },
     "metadata": {
      "needs_background": "light"
     },
     "output_type": "display_data"
    },
    {
     "data": {
      "text/plain": [
       "<Figure size 432x288 with 0 Axes>"
      ]
     },
     "metadata": {},
     "output_type": "display_data"
    }
   ],
   "source": [
    "y_pos = np.arange(len(tesla_languages_lst))\n",
    "plt.barh(y_pos, tesla_count_lst, align='center', alpha=0.5, color='r')\n",
    "plt.yticks(y_pos, tesla_languages_lst)\n",
    "plt.xlabel('Usage')\n",
    "plt.title('Tesla Programming language usage')\n",
    "\n",
    "plt.show()\n",
    "plt.savefig('tesla_data.png')"
   ]
  },
  {
   "cell_type": "code",
   "execution_count": 450,
   "metadata": {},
   "outputs": [
    {
     "data": {
      "text/plain": [
       "Python        26\n",
       "C              8\n",
       "C#             0\n",
       "C++           29\n",
       "R              1\n",
       "Java           1\n",
       "Ruby           0\n",
       "JavaScript     3\n",
       "PHP            0\n",
       "SQL            2\n",
       "Scala          0\n",
       "Name: 2, dtype: int64"
      ]
     },
     "execution_count": 450,
     "metadata": {},
     "output_type": "execute_result"
    }
   ],
   "source": [
    "gm_cruise_data = language_data.iloc[2, :]\n",
    "gm_cruise_data"
   ]
  },
  {
   "cell_type": "code",
   "execution_count": 451,
   "metadata": {},
   "outputs": [
    {
     "data": {
      "text/plain": [
       "[26, 8, 0, 29, 1, 1, 0, 3, 0, 2, 0]"
      ]
     },
     "execution_count": 451,
     "metadata": {},
     "output_type": "execute_result"
    }
   ],
   "source": [
    "gm_cruise_counter = list(gm_cruise_data)\n",
    "gm_cruise_counter"
   ]
  },
  {
   "cell_type": "code",
   "execution_count": 452,
   "metadata": {},
   "outputs": [
    {
     "data": {
      "text/plain": [
       "{'Python': 26,\n",
       " 'C': 8,\n",
       " 'C#': 0,\n",
       " 'C++': 29,\n",
       " 'R': 1,\n",
       " 'Java': 1,\n",
       " 'Ruby': 0,\n",
       " 'JavaScript': 3,\n",
       " 'PHP': 0,\n",
       " 'SQL': 2,\n",
       " 'Scala': 0}"
      ]
     },
     "execution_count": 452,
     "metadata": {},
     "output_type": "execute_result"
    }
   ],
   "source": [
    "gm_cruise_dict = {}\n",
    "for key in language_lst:\n",
    "    for count in gm_cruise_counter:\n",
    "        gm_cruise_dict[key] = count\n",
    "        gm_cruise_counter.remove(count)\n",
    "        break\n",
    "gm_cruise_dict"
   ]
  },
  {
   "cell_type": "code",
   "execution_count": 453,
   "metadata": {},
   "outputs": [
    {
     "data": {
      "text/plain": [
       "{'C#': 0,\n",
       " 'Ruby': 0,\n",
       " 'PHP': 0,\n",
       " 'Scala': 0,\n",
       " 'R': 1,\n",
       " 'Java': 1,\n",
       " 'SQL': 2,\n",
       " 'JavaScript': 3,\n",
       " 'C': 8,\n",
       " 'Python': 26,\n",
       " 'C++': 29}"
      ]
     },
     "execution_count": 453,
     "metadata": {},
     "output_type": "execute_result"
    }
   ],
   "source": [
    "gm_cruise_dict = {key: value for key, value in sorted(gm_cruise_dict.items(), key=lambda item: item[1])}\n",
    "gm_cruise_dict"
   ]
  },
  {
   "cell_type": "code",
   "execution_count": 454,
   "metadata": {},
   "outputs": [
    {
     "name": "stdout",
     "output_type": "stream",
     "text": [
      "['C#', 'Ruby', 'PHP', 'Scala', 'R', 'Java', 'SQL', 'JavaScript', 'C', 'Python', 'C++']\n",
      "[0, 0, 0, 0, 1, 1, 2, 3, 8, 26, 29]\n"
     ]
    }
   ],
   "source": [
    "gm_cruise_languages_lst = []\n",
    "gm_cruise_count_lst = []\n",
    "for key, value in gm_cruise_dict.items():\n",
    "    gm_cruise_languages_lst.append(key)\n",
    "    gm_cruise_count_lst.append(value)\n",
    "print(gm_cruise_languages_lst)\n",
    "print(gm_cruise_count_lst)"
   ]
  },
  {
   "cell_type": "code",
   "execution_count": 455,
   "metadata": {},
   "outputs": [
    {
     "data": {
      "image/png": "[encoded data removed]",
      "text/plain": [
       "<Figure size 432x288 with 1 Axes>"
      ]
     },
     "metadata": {
      "needs_background": "light"
     },
     "output_type": "display_data"
    },
    {
     "data": {
      "text/plain": [
       "<Figure size 432x288 with 0 Axes>"
      ]
     },
     "metadata": {},
     "output_type": "display_data"
    }
   ],
   "source": [
    "y_pos = np.arange(len(tesla_languages_lst))\n",
    "plt.barh(y_pos, gm_cruise_count_lst, align='center', alpha=0.5, color='y')\n",
    "plt.yticks(y_pos, gm_cruise_languages_lst)\n",
    "plt.xlabel('Usage')\n",
    "plt.title('GM-Cruise Programming language usage')\n",
    "\n",
    "plt.show()\n",
    "plt.savefig('gm_cruise_data.png')"
   ]
  },
  {
   "cell_type": "code",
   "execution_count": 456,
   "metadata": {},
   "outputs": [
    {
     "data": {
      "text/plain": [
       "Python        16\n",
       "C              1\n",
       "C#             0\n",
       "C++           19\n",
       "R              0\n",
       "Java           7\n",
       "Ruby           0\n",
       "JavaScript     2\n",
       "PHP            0\n",
       "SQL            3\n",
       "Scala          0\n",
       "Name: 3, dtype: int64"
      ]
     },
     "execution_count": 456,
     "metadata": {},
     "output_type": "execute_result"
    }
   ],
   "source": [
    "argo_ai_data = language_data.iloc[3, :]\n",
    "argo_ai_data"
   ]
  },
  {
   "cell_type": "code",
   "execution_count": 457,
   "metadata": {},
   "outputs": [
    {
     "data": {
      "text/plain": [
       "[16, 1, 0, 19, 0, 7, 0, 2, 0, 3, 0]"
      ]
     },
     "execution_count": 457,
     "metadata": {},
     "output_type": "execute_result"
    }
   ],
   "source": [
    "argo_ai_counter = list(argo_ai_data)\n",
    "argo_ai_counter"
   ]
  },
  {
   "cell_type": "code",
   "execution_count": 458,
   "metadata": {},
   "outputs": [
    {
     "data": {
      "text/plain": [
       "{'Python': 16,\n",
       " 'C': 1,\n",
       " 'C#': 0,\n",
       " 'C++': 19,\n",
       " 'R': 0,\n",
       " 'Java': 7,\n",
       " 'Ruby': 0,\n",
       " 'JavaScript': 2,\n",
       " 'PHP': 0,\n",
       " 'SQL': 3,\n",
       " 'Scala': 0}"
      ]
     },
     "execution_count": 458,
     "metadata": {},
     "output_type": "execute_result"
    }
   ],
   "source": [
    "argo_ai_dict = {}\n",
    "for key in language_lst:\n",
    "    for count in argo_ai_counter:\n",
    "        argo_ai_dict[key] = count\n",
    "        argo_ai_counter.remove(count)\n",
    "        break\n",
    "argo_ai_dict"
   ]
  },
  {
   "cell_type": "code",
   "execution_count": 459,
   "metadata": {},
   "outputs": [
    {
     "data": {
      "text/plain": [
       "{'C#': 0,\n",
       " 'R': 0,\n",
       " 'Ruby': 0,\n",
       " 'PHP': 0,\n",
       " 'Scala': 0,\n",
       " 'C': 1,\n",
       " 'JavaScript': 2,\n",
       " 'SQL': 3,\n",
       " 'Java': 7,\n",
       " 'Python': 16,\n",
       " 'C++': 19}"
      ]
     },
     "execution_count": 459,
     "metadata": {},
     "output_type": "execute_result"
    }
   ],
   "source": [
    "argo_ai_dict = {key: value for key, value in sorted(argo_ai_dict.items(), key=lambda item: item[1])}\n",
    "argo_ai_dict"
   ]
  },
  {
   "cell_type": "code",
   "execution_count": 460,
   "metadata": {},
   "outputs": [
    {
     "name": "stdout",
     "output_type": "stream",
     "text": [
      "['C#', 'R', 'Ruby', 'PHP', 'Scala', 'C', 'JavaScript', 'SQL', 'Java', 'Python', 'C++']\n",
      "[0, 0, 0, 0, 0, 1, 2, 3, 7, 16, 19]\n"
     ]
    }
   ],
   "source": [
    "argo_ai_languages_lst = []\n",
    "argo_ai_count_lst = []\n",
    "for key, value in argo_ai_dict.items():\n",
    "    argo_ai_languages_lst.append(key)\n",
    "    argo_ai_count_lst.append(value)\n",
    "print(argo_ai_languages_lst)\n",
    "print(argo_ai_count_lst)"
   ]
  },
  {
   "cell_type": "code",
   "execution_count": 461,
   "metadata": {},
   "outputs": [
    {
     "data": {
      "image/png": "[encoded data removed]",
      "text/plain": [
       "<Figure size 432x288 with 1 Axes>"
      ]
     },
     "metadata": {
      "needs_background": "light"
     },
     "output_type": "display_data"
    },
    {
     "data": {
      "text/plain": [
       "<Figure size 432x288 with 0 Axes>"
      ]
     },
     "metadata": {},
     "output_type": "display_data"
    }
   ],
   "source": [
    "y_pos = np.arange(len(argo_ai_languages_lst))\n",
    "plt.barh(y_pos, argo_ai_count_lst, align='center', alpha=0.5, color='b')\n",
    "plt.yticks(y_pos, argo_ai_languages_lst)\n",
    "plt.xlabel('Usage')\n",
    "plt.title('Argo AI Programming language usage')\n",
    "\n",
    "plt.show()\n",
    "plt.savefig('argo_ai_data.png')"
   ]
  },
  {
   "cell_type": "code",
   "execution_count": null,
   "metadata": {},
   "outputs": [],
   "source": []
  }
 ],
 "metadata": {
  "kernelspec": {
   "display_name": "Python 3",
   "language": "python",
   "name": "python3"
  },
  "language_info": {
   "codemirror_mode": {
    "name": "ipython",
    "version": 3
   },
   "file_extension": ".py",
   "mimetype": "text/x-python",
   "name": "python",
   "nbconvert_exporter": "python",
   "pygments_lexer": "ipython3",
   "version": "3.8.3"
  }
 },
 "nbformat": 4,
 "nbformat_minor": 4
}
